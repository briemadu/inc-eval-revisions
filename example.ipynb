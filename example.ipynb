{
 "cells": [
  {
   "attachments": {},
   "cell_type": "markdown",
   "metadata": {},
   "source": [
    "# Demonstration of the evaluation framework\n",
    "\n",
    "This notebook contains some examples of how to build the incremental charts\n",
    "and how to use the methods."
   ]
  },
  {
   "cell_type": "code",
   "execution_count": 1,
   "metadata": {},
   "outputs": [],
   "source": [
    "import numpy as np\n",
    "\n",
    "from inceval.incoutputs import IncOutputs\n",
    "from inceval.incdataset import IncData\n",
    "from inceval.aux import GOLD, SILVER"
   ]
  },
  {
   "attachments": {},
   "cell_type": "markdown",
   "metadata": {},
   "source": [
    "## Building the incremental charts\n",
    "Creating an incremental chart step by step. We'll build the chart for a sequence\n",
    "of 10 tokens, using a gold standard and passing the recomputation time steps:"
   ]
  },
  {
   "cell_type": "code",
   "execution_count": 2,
   "metadata": {},
   "outputs": [],
   "source": [
    "recomputations = np.array([False, False, True, True, True,\n",
    "                           False, True, True, True, True])\n",
    "\n",
    "gold = [1, 2, 1, 3, 1, 2, 2, 3, 1, 2]\n",
    "# initialise the chart\n",
    "outputs = IncOutputs(10, gold=gold, recomputations=recomputations, eval_mode=GOLD)\n",
    "# add prefix by prefix to the chart\n",
    "outputs.add_prefix(0, [1])\n",
    "outputs.add_prefix(1, [1, 2])\n",
    "outputs.add_prefix(2, [1, 1, 3])\n",
    "outputs.add_prefix(3, [1, 1, 3, 2])\n",
    "outputs.add_prefix(4, [1, 2, 1, 3, 1])\n",
    "outputs.add_prefix(5, [1, 2, 1, 1, 3, 2])\n",
    "outputs.add_prefix(6, [1, 2, 2, 1, 3, 1, 1])\n",
    "outputs.add_prefix(7, [1, 2, 1, 1, 3, 1, 1, 3])\n",
    "outputs.add_prefix(8, [1, 2, 1, 1, 3, 1, 1, 2, 1])\n",
    "outputs.add_prefix(9, [1, 2, 1, 1, 3, 2, 2, 3, 1, 1])"
   ]
  },
  {
   "attachments": {},
   "cell_type": "markdown",
   "metadata": {},
   "source": [
    "Once the final step gets added, all further internal computations are done to \n",
    "build the edit chart and characterise edits and revisions. These structures are\n",
    "all lower triangular matrices where each row represents a time step and each\n",
    "column represents a token position.\n",
    "\n",
    "The prefixes of labels are saved in the ```chart``` attribute:"
   ]
  },
  {
   "cell_type": "code",
   "execution_count": 3,
   "metadata": {},
   "outputs": [
    {
     "data": {
      "text/plain": [
       "array([[1, inf, inf, inf, inf, inf, inf, inf, inf, inf],\n",
       "       [1, 2, inf, inf, inf, inf, inf, inf, inf, inf],\n",
       "       [1, 1, 3, inf, inf, inf, inf, inf, inf, inf],\n",
       "       [1, 1, 3, 2, inf, inf, inf, inf, inf, inf],\n",
       "       [1, 2, 1, 3, 1, inf, inf, inf, inf, inf],\n",
       "       [1, 2, 1, 1, 3, 2, inf, inf, inf, inf],\n",
       "       [1, 2, 2, 1, 3, 1, 1, inf, inf, inf],\n",
       "       [1, 2, 1, 1, 3, 1, 1, 3, inf, inf],\n",
       "       [1, 2, 1, 1, 3, 1, 1, 2, 1, inf],\n",
       "       [1, 2, 1, 1, 3, 2, 2, 3, 1, 1]], dtype=object)"
      ]
     },
     "execution_count": 3,
     "metadata": {},
     "output_type": "execute_result"
    }
   ],
   "source": [
    "outputs.chart"
   ]
  },
  {
   "attachments": {},
   "cell_type": "markdown",
   "metadata": {},
   "source": [
    "The edits are represented by the ```edits``` attribute with the flag 1."
   ]
  },
  {
   "cell_type": "code",
   "execution_count": 4,
   "metadata": {},
   "outputs": [
    {
     "data": {
      "text/plain": [
       "array([[1., 0., 0., 0., 0., 0., 0., 0., 0., 0.],\n",
       "       [0., 1., 0., 0., 0., 0., 0., 0., 0., 0.],\n",
       "       [0., 1., 1., 0., 0., 0., 0., 0., 0., 0.],\n",
       "       [0., 0., 0., 1., 0., 0., 0., 0., 0., 0.],\n",
       "       [0., 1., 1., 1., 1., 0., 0., 0., 0., 0.],\n",
       "       [0., 0., 0., 1., 1., 1., 0., 0., 0., 0.],\n",
       "       [0., 0., 1., 0., 0., 1., 1., 0., 0., 0.],\n",
       "       [0., 0., 1., 0., 0., 0., 0., 1., 0., 0.],\n",
       "       [0., 0., 0., 0., 0., 0., 0., 1., 1., 0.],\n",
       "       [0., 0., 0., 0., 0., 1., 1., 1., 0., 1.]])"
      ]
     },
     "execution_count": 4,
     "metadata": {},
     "output_type": "execute_result"
    }
   ],
   "source": [
    "outputs.edits"
   ]
  },
  {
   "attachments": {},
   "cell_type": "markdown",
   "metadata": {},
   "source": [
    "The attribute ```edit_qualities.chartedit_qualities.chart``` stores the characterised edits."
   ]
  },
  {
   "cell_type": "code",
   "execution_count": 5,
   "metadata": {},
   "outputs": [
    {
     "data": {
      "text/plain": [
       "array([[None, None, None, None, None, None, None, None, None, None],\n",
       "       [None, None, None, None, None, None, None, None, None, None],\n",
       "       [None,\n",
       "        EditQualities(range_param=2, effective=False, defective=True, ineffective=False, convenient=False, inconvenient=True, innovative=True, repetitive=False, recurrent=False, steady=True, oscillating=True, stable=False, connected=False, disconnected=True, accompanied=False, isolated=True, short=True, long=False, temporary=True, definite=False, intermediate=True, final=False),\n",
       "        None, None, None, None, None, None, None, None],\n",
       "       [None, None, None, None, None, None, None, None, None, None],\n",
       "       [None,\n",
       "        EditQualities(range_param=2, effective=True, defective=False, ineffective=False, convenient=True, inconvenient=False, innovative=False, repetitive=True, recurrent=False, steady=True, oscillating=True, stable=False, connected=True, disconnected=False, accompanied=True, isolated=False, short=False, long=True, temporary=False, definite=True, intermediate=True, final=False),\n",
       "        EditQualities(range_param=2, effective=True, defective=False, ineffective=False, convenient=True, inconvenient=False, innovative=True, repetitive=False, recurrent=False, steady=True, oscillating=True, stable=False, connected=True, disconnected=False, accompanied=True, isolated=False, short=True, long=False, temporary=True, definite=False, intermediate=True, final=False),\n",
       "        EditQualities(range_param=2, effective=True, defective=False, ineffective=False, convenient=True, inconvenient=False, innovative=True, repetitive=False, recurrent=True, steady=False, oscillating=True, stable=False, connected=True, disconnected=False, accompanied=True, isolated=False, short=True, long=False, temporary=True, definite=False, intermediate=True, final=False),\n",
       "        None, None, None, None, None, None],\n",
       "       [None, None, None,\n",
       "        EditQualities(range_param=2, effective=False, defective=True, ineffective=False, convenient=False, inconvenient=True, innovative=True, repetitive=False, recurrent=True, steady=False, oscillating=True, stable=False, connected=True, disconnected=False, accompanied=True, isolated=False, short=True, long=False, temporary=False, definite=True, intermediate=True, final=False),\n",
       "        EditQualities(range_param=2, effective=False, defective=True, ineffective=False, convenient=False, inconvenient=True, innovative=True, repetitive=False, recurrent=False, steady=True, oscillating=False, stable=True, connected=True, disconnected=False, accompanied=True, isolated=False, short=True, long=False, temporary=False, definite=True, intermediate=True, final=False),\n",
       "        None, None, None, None, None],\n",
       "       [None, None,\n",
       "        EditQualities(range_param=2, effective=False, defective=True, ineffective=False, convenient=False, inconvenient=True, innovative=True, repetitive=False, recurrent=True, steady=False, oscillating=True, stable=False, connected=False, disconnected=True, accompanied=True, isolated=False, short=False, long=True, temporary=True, definite=False, intermediate=True, final=False),\n",
       "        None, None,\n",
       "        EditQualities(range_param=2, effective=False, defective=True, ineffective=False, convenient=False, inconvenient=True, innovative=True, repetitive=False, recurrent=False, steady=True, oscillating=True, stable=False, connected=False, disconnected=True, accompanied=True, isolated=False, short=True, long=False, temporary=True, definite=False, intermediate=True, final=False),\n",
       "        None, None, None, None],\n",
       "       [None, None,\n",
       "        EditQualities(range_param=2, effective=True, defective=False, ineffective=False, convenient=True, inconvenient=False, innovative=False, repetitive=True, recurrent=True, steady=False, oscillating=True, stable=False, connected=False, disconnected=True, accompanied=False, isolated=True, short=False, long=True, temporary=False, definite=True, intermediate=True, final=False),\n",
       "        None, None, None, None, None, None, None],\n",
       "       [None, None, None, None, None, None, None,\n",
       "        EditQualities(range_param=2, effective=False, defective=True, ineffective=False, convenient=False, inconvenient=True, innovative=True, repetitive=False, recurrent=True, steady=False, oscillating=True, stable=False, connected=False, disconnected=True, accompanied=False, isolated=True, short=True, long=False, temporary=True, definite=False, intermediate=True, final=False),\n",
       "        None, None],\n",
       "       [None, None, None, None, None,\n",
       "        EditQualities(range_param=2, effective=True, defective=False, ineffective=False, convenient=True, inconvenient=False, innovative=False, repetitive=True, recurrent=False, steady=True, oscillating=True, stable=False, connected=True, disconnected=False, accompanied=True, isolated=False, short=False, long=True, temporary=False, definite=True, intermediate=False, final=True),\n",
       "        EditQualities(range_param=2, effective=True, defective=False, ineffective=False, convenient=True, inconvenient=False, innovative=True, repetitive=False, recurrent=False, steady=True, oscillating=False, stable=True, connected=True, disconnected=False, accompanied=True, isolated=False, short=False, long=True, temporary=False, definite=True, intermediate=False, final=True),\n",
       "        EditQualities(range_param=2, effective=True, defective=False, ineffective=False, convenient=True, inconvenient=False, innovative=False, repetitive=True, recurrent=True, steady=False, oscillating=True, stable=False, connected=True, disconnected=False, accompanied=True, isolated=False, short=True, long=False, temporary=False, definite=True, intermediate=False, final=True),\n",
       "        None, None]], dtype=object)"
      ]
     },
     "execution_count": 5,
     "metadata": {},
     "output_type": "execute_result"
    }
   ],
   "source": [
    "outputs.edit_qualities.chart"
   ]
  },
  {
   "attachments": {},
   "cell_type": "markdown",
   "metadata": {},
   "source": [
    "The attribute ```revision_qualities.seq``` stores all the characterised revisions:"
   ]
  },
  {
   "cell_type": "code",
   "execution_count": 6,
   "metadata": {},
   "outputs": [
    {
     "data": {
      "text/plain": [
       "array([None, None,\n",
       "       RevisionQualities(range_param=2, effective=False, defective=True, ineffective=False, convenient=False, inconvenient=True, recurrent=False, steady=True, oscillating=True, stable=False, isolated_edit=True, accompanied_edits=False, disconnected_edits=True, connected_edits=False, dis_and_connected_edits=False, short_range=True, long_range=False, short_and_long_range=False, definite=False, temporary=True, intermediate=True, final=False),\n",
       "       None,\n",
       "       RevisionQualities(range_param=2, effective=True, defective=False, ineffective=False, convenient=True, inconvenient=False, recurrent=True, steady=False, oscillating=True, stable=False, isolated_edit=False, accompanied_edits=True, disconnected_edits=False, connected_edits=True, dis_and_connected_edits=False, short_range=False, long_range=False, short_and_long_range=True, definite=False, temporary=True, intermediate=True, final=False),\n",
       "       RevisionQualities(range_param=2, effective=False, defective=True, ineffective=False, convenient=False, inconvenient=True, recurrent=True, steady=False, oscillating=True, stable=False, isolated_edit=False, accompanied_edits=True, disconnected_edits=False, connected_edits=True, dis_and_connected_edits=False, short_range=True, long_range=False, short_and_long_range=False, definite=False, temporary=True, intermediate=True, final=False),\n",
       "       RevisionQualities(range_param=2, effective=False, defective=True, ineffective=False, convenient=True, inconvenient=False, recurrent=True, steady=False, oscillating=True, stable=False, isolated_edit=False, accompanied_edits=True, disconnected_edits=True, connected_edits=False, dis_and_connected_edits=False, short_range=False, long_range=False, short_and_long_range=True, definite=False, temporary=True, intermediate=True, final=False),\n",
       "       RevisionQualities(range_param=2, effective=True, defective=False, ineffective=False, convenient=True, inconvenient=False, recurrent=True, steady=False, oscillating=True, stable=False, isolated_edit=True, accompanied_edits=False, disconnected_edits=True, connected_edits=False, dis_and_connected_edits=False, short_range=False, long_range=True, short_and_long_range=False, definite=False, temporary=True, intermediate=True, final=False),\n",
       "       RevisionQualities(range_param=2, effective=False, defective=True, ineffective=False, convenient=True, inconvenient=False, recurrent=True, steady=False, oscillating=True, stable=False, isolated_edit=True, accompanied_edits=False, disconnected_edits=True, connected_edits=False, dis_and_connected_edits=False, short_range=True, long_range=False, short_and_long_range=False, definite=False, temporary=True, intermediate=True, final=False),\n",
       "       RevisionQualities(range_param=2, effective=True, defective=False, ineffective=False, convenient=True, inconvenient=False, recurrent=True, steady=False, oscillating=True, stable=False, isolated_edit=False, accompanied_edits=True, disconnected_edits=False, connected_edits=True, dis_and_connected_edits=False, short_range=False, long_range=False, short_and_long_range=True, definite=True, temporary=False, intermediate=False, final=True)],\n",
       "      dtype=object)"
      ]
     },
     "execution_count": 6,
     "metadata": {},
     "output_type": "execute_result"
    }
   ],
   "source": [
    "outputs.revision_qualities.seq"
   ]
  },
  {
   "attachments": {},
   "cell_type": "markdown",
   "metadata": {},
   "source": [
    "To visualise the incremental chart, we need to pass the list of tokens and the figure size as parameters:"
   ]
  },
  {
   "cell_type": "code",
   "execution_count": 7,
   "metadata": {},
   "outputs": [
    {
     "data": {
      "image/png": "[encoded data removed]",
      "text/plain": [
       "<Figure size 800x400 with 1 Axes>"
      ]
     },
     "metadata": {},
     "output_type": "display_data"
    }
   ],
   "source": [
    "sentence = ['This', 'is', 'a', 'quick', 'example', 'sequence', 'with', 'ten', 'tokens', '.']\n",
    "outputs.plot_inc_chart(sentence, (8, 4))"
   ]
  },
  {
   "attachments": {},
   "cell_type": "markdown",
   "metadata": {},
   "source": [
    "Alternatively, if all output prefixes are already available, we can create the chart at once. Here, we use the final output as a silver standard and no recomputations:"
   ]
  },
  {
   "cell_type": "code",
   "execution_count": 8,
   "metadata": {},
   "outputs": [],
   "source": [
    "outputs_2 = IncOutputs(5, eval_mode=SILVER)\n",
    "outputs_2.add_all_prefixes(np.array([\n",
    "    [1, np.inf, np.inf, np.inf, np.inf],\n",
    "    [3, 2,      np.inf, np.inf, np.inf],\n",
    "    [1, 2,      1,      np.inf, np.inf],\n",
    "    [2, 2,      3,      1,      np.inf],\n",
    "    [2, 2,      3,      1,      3],\n",
    "]))"
   ]
  },
  {
   "attachments": {},
   "cell_type": "markdown",
   "metadata": {},
   "source": [
    "## Computing metrics on sequence level\n",
    "\n",
    "The ```IncOutputs``` object has several methods to compute various evaluation metrics:"
   ]
  },
  {
   "cell_type": "code",
   "execution_count": 9,
   "metadata": {},
   "outputs": [
    {
     "name": "stdout",
     "output_type": "stream",
     "text": [
      "Number of tokens:  10\n",
      "Final accuracy:  0.7\n",
      "Accuracy by turn:  [1.         1.         0.33333333 0.25       1.         0.66666667\n",
      " 0.28571429 0.5        0.44444444 0.7       ] \n",
      "\n",
      "Revision timesteps:  [2, 4, 5, 6, 7, 8, 9]\n",
      "Addition timesteps:  [0, 1, 3]\n",
      "Correct prefixes:  [0, 1, 4]\n",
      "Incorrect prefixes:  [2, 3, 5, 6, 7, 8, 9] \n",
      "\n",
      "Number of correct prefixes:  3\n",
      "Number of correct acted upon prefixes:  4\n",
      "% of correct prefixes:  30.0\n",
      "Number of incorrect prefixes:  7\n",
      "Number of incorrect acted upon prefixes:  6\n",
      "% of incorrect prefixes:  70.0 \n",
      "\n",
      "Number of revisions:  7\n",
      "% of revisions:  70.0\n",
      "Number of recomputations:  7\n",
      "% of recomputations:  70.0\n",
      "Recomputation time steps:  [2, 3, 4, 6, 7, 8, 9]\n",
      "Number of active recomputations:  6\n",
      "% of active recomputations:  85.71428571428571\n",
      "Number of inactive recomputations:  1\n",
      "% of inactive recomputations:  14.285714285714286\n",
      "Number of additions:  3\n",
      "% of additions:  30.0\n",
      "Number of revisions on correct prefixes:  2\n",
      "Number of revisions on incorrect prefixes:  5\n",
      "Number of additions on correct prefixes:  2\n",
      "Number of additions on incorrect prefixes:  1 \n",
      "\n",
      "R-pertinence:  0.7142857142857143\n",
      "R-pertinence (complement):  0.2857142857142857\n",
      "A-pertinence:  0.6666666666666666\n",
      "A-pertinence (complement):  0.3333333333333333 \n",
      "\n",
      "R-appropriateness:  0.8333333333333334\n",
      "R-appropriateness (complement):  0.16666666666666666\n",
      "A-appropriateness:  0.5\n",
      "A-appropriateness (complement):  0.5 \n",
      "\n",
      "Edit Overhead:  0.5652173913043478\n",
      "Edit Overhead D1:  0.47058823529411764\n",
      "Edit OverheadD2:  0.38461538461538464\n",
      "Relative correctness:  0.3\n",
      "Total edits:  13.0\n",
      "% edits:  28.88888888888889\n",
      "Edits per token:  [0. 2. 3. 2. 1. 2. 1. 2. 0. 0.]\n",
      "% edits per token:  [  0.          25.          42.85714286  33.33333333  20.\n",
      "  50.          33.33333333 100.           0.                  nan]\n",
      "Edits per time step:  [0. 0. 1. 0. 3. 2. 2. 1. 1. 3.]\n",
      "% edits per time step:  [        nan  0.         50.          0.         75.         40.\n",
      " 33.33333333 14.28571429 12.5        33.33333333]\n",
      "Edits per revision:  [1. 3. 2. 2. 1. 1. 3.]\n",
      "Edit groups per time step:  [[], [], [1], [], [3], [2], [1, 1], [1], [1], [3]]\n",
      "Edit groups per revision:  [[1], [3], [2], [1, 1], [1], [1], [3]]\n",
      "Edit distances:  [[], [], [1], [], [3, 2, 1], [2, 1], [4, 1], [5], [1], [4, 3, 2]] \n",
      "\n",
      "Label diversity [1, 2, 3, 3, 2, 2, 2, 2, 1, 1]\n"
     ]
    },
    {
     "name": "stderr",
     "output_type": "stream",
     "text": [
      "/Users/brie/Documents/revi-eval/inceval/incoutputs.py:553: RuntimeWarning: invalid value encountered in divide\n",
      "  return 100 * self.n_edits_per_token / self.possible_edits_per_token\n",
      "/Users/brie/Documents/revi-eval/inceval/incoutputs.py:563: RuntimeWarning: invalid value encountered in divide\n",
      "  return 100 * (self.n_edits_per_timestep\n"
     ]
    }
   ],
   "source": [
    "print('Number of tokens: ', outputs.n_tokens)\n",
    "print('Final accuracy: ', outputs.final_accuracy)\n",
    "print('Accuracy by turn: ', outputs.accuracy_by_turn, '\\n')\n",
    "\n",
    "print('Revision timesteps: ', outputs.revision_timesteps)\n",
    "print('Addition timesteps: ', outputs.write_timesteps)\n",
    "print('Correct prefixes: ', outputs.correct_prefixes)\n",
    "print('Incorrect prefixes: ', outputs.incorrect_prefixes, '\\n')\n",
    "\n",
    "print('Number of correct prefixes: ', outputs.n_correct_prefixes)\n",
    "print('Number of correct acted upon prefixes: ', outputs.n_correct_acted_prefixes)\n",
    "print('% of correct prefixes: ', outputs.perc_correct_prefixes)\n",
    "print('Number of incorrect prefixes: ', outputs.n_incorrect_prefixes)\n",
    "print('Number of incorrect acted upon prefixes: ', outputs.n_incorrect_acted_prefixes)\n",
    "print('% of incorrect prefixes: ', outputs.perc_incorrect_prefixes, '\\n')\n",
    "\n",
    "print('Number of revisions: ', outputs.n_revisions)\n",
    "print('% of revisions: ', outputs.perc_revisions)\n",
    "print('Number of recomputations: ', outputs.n_recomputations)\n",
    "print('% of recomputations: ', outputs.perc_recomputations)\n",
    "print('Recomputation time steps: ', outputs.recomputation_timesteps)\n",
    "print('Number of active recomputations: ', outputs.n_active_recomputations)\n",
    "print('% of active recomputations: ', outputs.perc_active_recomputations)\n",
    "print('Number of inactive recomputations: ', outputs.n_inactive_recomputations)\n",
    "print('% of inactive recomputations: ', outputs.perc_inactive_recomputations)\n",
    "print('Number of additions: ', outputs.n_writes)\n",
    "print('% of additions: ', outputs.perc_writes)\n",
    "\n",
    "print('Number of revisions on correct prefixes: ', outputs.n_revision_and_correct_prefix)\n",
    "print('Number of revisions on incorrect prefixes: ', outputs.n_revision_and_incorrect_prefix)\n",
    "print('Number of additions on correct prefixes: ', outputs.n_write_and_correct_prefix)\n",
    "print('Number of additions on incorrect prefixes: ', outputs.n_write_and_incorrect_prefix, '\\n')\n",
    "\n",
    "print('R-pertinence: ', outputs.r_pertinence)\n",
    "print('R-pertinence (complement): ', outputs.r_pertinence_complement)\n",
    "print('A-pertinence: ', outputs.a_pertinence)\n",
    "print('A-pertinence (complement): ', outputs.a_pertinence_complement, '\\n')\n",
    "\n",
    "print('R-appropriateness: ', outputs.r_appropriateness)\n",
    "print('R-appropriateness (complement): ', outputs.r_appropriateness_complement)\n",
    "print('A-appropriateness: ', outputs.a_appropriateness)\n",
    "print('A-appropriateness (complement): ', outputs.a_appropriateness_complement, '\\n')\n",
    "\n",
    "print('Edit Overhead: ', outputs.edit_overhead)\n",
    "print('Edit Overhead D1: ', outputs.delayed_edit_overhead(1))\n",
    "print('Edit OverheadD2: ', outputs.delayed_edit_overhead(2))\n",
    "print('Relative correctness: ', outputs.relative_correctness)\n",
    "\n",
    "print('Total edits: ', outputs.n_total_edits)\n",
    "print('% edits: ', outputs.perc_total_edits)\n",
    "print('Edits per token: ', outputs.n_edits_per_token)\n",
    "print('% edits per token: ', outputs.perc_edits_per_token)\n",
    "print('Edits per time step: ', outputs.n_edits_per_timestep)\n",
    "print('% edits per time step: ', outputs.perc_edits_per_timestep)\n",
    "print('Edits per revision: ', outputs.n_edits_per_revision)\n",
    "print('Edit groups per time step: ', outputs.n_edit_groups_per_timestep)\n",
    "print('Edit groups per revision: ', outputs.n_edit_groups_per_revision)\n",
    "print('Edit distances: ', outputs.edit_distances, '\\n')\n",
    "\n",
    "print('Label diversity', outputs.label_diversity_per_token)\n",
    "\n"
   ]
  },
  {
   "attachments": {},
   "cell_type": "markdown",
   "metadata": {},
   "source": [
    "## Computing metrics on dataset level\n",
    "\n",
    "The main metrics can also be computed on dataset level, by counting the number of revisions, edits, correct and incorrect prefixes etc over all the tokens in the dataset. For that, we first create a dictionary mapping sequence IDs to sequence ```IncOutputs``` and then use the methods in ```IncData```."
   ]
  },
  {
   "cell_type": "code",
   "execution_count": 10,
   "metadata": {},
   "outputs": [],
   "source": [
    "recomputations = np.array([True, False, True, False, True])\n",
    "gold = [3, 2, 3, 2, 1]\n",
    "# initialise the chart\n",
    "outputs_3 = IncOutputs(5, gold=gold, recomputations=recomputations, eval_mode=GOLD)\n",
    "# add prefix by prefix to the chart\n",
    "outputs_3.add_prefix(0, [3])\n",
    "outputs_3.add_prefix(1, [3, 2])\n",
    "outputs_3.add_prefix(2, [1, 3, 3])\n",
    "outputs_3.add_prefix(3, [1, 1, 3, 1])\n",
    "outputs_3.add_prefix(4, [3, 1, 2, 2, 1])\n",
    "\n",
    "\n",
    "recomputations = np.array([True, True, True])\n",
    "gold = [2, 2, 1]\n",
    "# initialise the chart\n",
    "outputs_4 = IncOutputs(3, gold=gold, recomputations=recomputations, eval_mode=GOLD)\n",
    "# add prefix by prefix to the chart\n",
    "outputs_4.add_prefix(0, [2])\n",
    "outputs_4.add_prefix(1, [2, 2])\n",
    "outputs_4.add_prefix(2, [2, 1, 1])"
   ]
  },
  {
   "attachments": {},
   "cell_type": "markdown",
   "metadata": {},
   "source": [
    "Create the incremental dataset:"
   ]
  },
  {
   "cell_type": "code",
   "execution_count": 11,
   "metadata": {},
   "outputs": [],
   "source": [
    "outputs_dic = {1: outputs, 2: outputs_3, 3: outputs_4}\n",
    "dataset = IncData(outputs_dic)"
   ]
  },
  {
   "attachments": {},
   "cell_type": "markdown",
   "metadata": {},
   "source": [
    "The distribution of effective edits:"
   ]
  },
  {
   "cell_type": "code",
   "execution_count": 12,
   "metadata": {},
   "outputs": [
    {
     "data": {
      "text/plain": [
       "[7, 2, 0]"
      ]
     },
     "execution_count": 12,
     "metadata": {},
     "output_type": "execute_result"
    }
   ],
   "source": [
    "dataset.edits_with_quality('effective')"
   ]
  },
  {
   "attachments": {},
   "cell_type": "markdown",
   "metadata": {},
   "source": [
    "A metric computed over all tokens:"
   ]
  },
  {
   "cell_type": "code",
   "execution_count": 13,
   "metadata": {},
   "outputs": [
    {
     "data": {
      "text/plain": [
       "0.875"
      ]
     },
     "execution_count": 13,
     "metadata": {},
     "output_type": "execute_result"
    }
   ],
   "source": [
    "dataset.r_appropriateness"
   ]
  },
  {
   "cell_type": "code",
   "execution_count": 14,
   "metadata": {},
   "outputs": [
    {
     "data": {
      "text/plain": [
       "[0.8333333333333334, 1.0, nan]"
      ]
     },
     "execution_count": 14,
     "metadata": {},
     "output_type": "execute_result"
    }
   ],
   "source": [
    "dataset.get_dist('r_appropriateness')"
   ]
  },
  {
   "attachments": {},
   "cell_type": "markdown",
   "metadata": {},
   "source": [
    "We can also compute the mean/std per sequence of an attribute. ```nan``` values\n",
    "are ignored when computing ```get_mean``` and ```get_std```."
   ]
  },
  {
   "cell_type": "code",
   "execution_count": 15,
   "metadata": {},
   "outputs": [
    {
     "data": {
      "text/plain": [
       "0.9166666666666667"
      ]
     },
     "execution_count": 15,
     "metadata": {},
     "output_type": "execute_result"
    }
   ],
   "source": [
    "dataset.get_mean('r_appropriateness')"
   ]
  }
 ],
 "metadata": {
  "kernelspec": {
   "display_name": "inc-eval-revisions",
   "language": "python",
   "name": "python3"
  },
  "language_info": {
   "codemirror_mode": {
    "name": "ipython",
    "version": 3
   },
   "file_extension": ".py",
   "mimetype": "text/x-python",
   "name": "python",
   "nbconvert_exporter": "python",
   "pygments_lexer": "ipython3",
   "version": "3.9.17"
  },
  "orig_nbformat": 4
 },
 "nbformat": 4,
 "nbformat_minor": 2
}
